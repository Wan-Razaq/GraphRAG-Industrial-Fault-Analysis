{
 "cells": [
  {
   "cell_type": "code",
   "execution_count": 1,
   "metadata": {},
   "outputs": [],
   "source": [
    "import json\n",
    "from pathlib import Path"
   ]
  },
  {
   "cell_type": "code",
   "execution_count": 4,
   "metadata": {},
   "outputs": [],
   "source": [
    "# Input and Output paths\n",
    "input_path = Path(\"25_Annotated_Cases_2.jsonl\")\n",
    "output_path = Path(\"formatted_annotated_cases_2.json\")"
   ]
  },
  {
   "cell_type": "code",
   "execution_count": 5,
   "metadata": {},
   "outputs": [],
   "source": [
    "# Load JSONL file from doccano\n",
    "data = []\n",
    "with open(input_path, \"r\", encoding=\"utf-8\") as f:\n",
    "    for line in f:\n",
    "        data.append(json.loads(line))"
   ]
  },
  {
   "cell_type": "code",
   "execution_count": 6,
   "metadata": {},
   "outputs": [],
   "source": [
    "formatted_data = []\n",
    "\n",
    "for entry in data:\n",
    "    text = entry[\"text\"]\n",
    "    labels = entry.get(\"label\", [])\n",
    "\n",
    "    # Extract case ID and Machine (e.g., IBM3 and IBM4)\n",
    "    first_line = text.splitlines()[0]\n",
    "    case_id = first_line.replace(\"Case-ID:\", \"\").strip()\n",
    "    machine = \"IBM3\" if \"IBM3\" in case_id else \"IBM4\" if \"IBM4\" in case_id else \"unknown\"\n",
    "\n",
    "    # Initialize containers\n",
    "    fault_location = {\"name\": \"\", \"machine\": machine}\n",
    "    fault_symptoms = []\n",
    "    fault_reason = []\n",
    "    fault_measures = []\n",
    "    resolution_status = \"Unknown\"\n",
    "\n",
    "    # Sort labels by start position\n",
    "    labels = sorted(labels, key=lambda x: x[0])\n",
    "\n",
    "    for start, end, label_type in labels:\n",
    "        span_text = text[start:end].strip()\n",
    "        if label_type == \"FaultLocation\":\n",
    "            fault_location = {\"name\": span_text, \"machine\": machine}\n",
    "        elif label_type == \"FaultSymptom\":\n",
    "            fault_symptoms.append(span_text)\n",
    "        elif label_type == \"FaultReason\":\n",
    "            fault_reason.append({\"name\": span_text})\n",
    "        elif label_type == \"FaultMeasure\":\n",
    "            fault_measures.append({\"description\": span_text})\n",
    "\n",
    "    # Attempt to extract resolution status from the last line\n",
    "    if \"Resolution Status\" in text:\n",
    "        lines = text.splitlines()\n",
    "        for line in lines:\n",
    "            if \"Resolution Status\" in line:\n",
    "                parts = line.split(\":\")\n",
    "                if len(parts) > 1:\n",
    "                    resolution_status = parts[1].strip()\n",
    "                break\n",
    "    \n",
    "    formatted_data.append({\n",
    "        \"case_id\": case_id,\n",
    "        \"result\": {\n",
    "            \"fault_location\": fault_location,\n",
    "            \"fault_symptoms\": fault_symptoms,\n",
    "            \"fault_reason\": fault_reason,\n",
    "            \"fault_measures\": fault_measures,\n",
    "            \"resolution_status\": resolution_status\n",
    "        }\n",
    "    })\n",
    "    "
   ]
  },
  {
   "cell_type": "code",
   "execution_count": 7,
   "metadata": {},
   "outputs": [
    {
     "name": "stdout",
     "output_type": "stream",
     "text": [
      "✅ Reformatted 25 cases.\n"
     ]
    }
   ],
   "source": [
    "print(f\"✅ Reformatted {len(formatted_data)} cases.\")"
   ]
  },
  {
   "cell_type": "code",
   "execution_count": 8,
   "metadata": {},
   "outputs": [
    {
     "name": "stdout",
     "output_type": "stream",
     "text": [
      "✅ Done! Saved formatted data to: formatted_annotated_cases_2.json\n"
     ]
    }
   ],
   "source": [
    "# Save to JSON\n",
    "with open(output_path, \"w\", encoding=\"utf-8\") as f:\n",
    "    json.dump(formatted_data, f, indent=2, ensure_ascii=False)\n",
    "\n",
    "print(f\"✅ Done! Saved formatted data to: {output_path}\")"
   ]
  },
  {
   "cell_type": "code",
   "execution_count": null,
   "metadata": {},
   "outputs": [],
   "source": []
  }
 ],
 "metadata": {
  "kernelspec": {
   "display_name": ".venv",
   "language": "python",
   "name": "python3"
  },
  "language_info": {
   "codemirror_mode": {
    "name": "ipython",
    "version": 3
   },
   "file_extension": ".py",
   "mimetype": "text/x-python",
   "name": "python",
   "nbconvert_exporter": "python",
   "pygments_lexer": "ipython3",
   "version": "3.12.4"
  }
 },
 "nbformat": 4,
 "nbformat_minor": 2
}
